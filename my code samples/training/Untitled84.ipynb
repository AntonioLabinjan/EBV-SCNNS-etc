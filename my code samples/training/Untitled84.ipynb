{
  "nbformat": 4,
  "nbformat_minor": 0,
  "metadata": {
    "colab": {
      "provenance": [],
      "gpuType": "T4"
    },
    "kernelspec": {
      "name": "python3",
      "display_name": "Python 3"
    },
    "language_info": {
      "name": "python"
    },
    "accelerator": "GPU"
  },
  "cells": [
    {
      "cell_type": "code",
      "execution_count": null,
      "metadata": {
        "id": "1ed3YpzB4hkf"
      },
      "outputs": [],
      "source": [
        "#https://r-gaurav.github.io/2024/01/04/Building-And-Training-Spiking-Neural-Networks-From-Scratch.html"
      ]
    },
    {
      "cell_type": "code",
      "source": [
        "!pip install nengo nengo-extras\n"
      ],
      "metadata": {
        "colab": {
          "base_uri": "https://localhost:8080/"
        },
        "id": "6YP_ruNn5TLJ",
        "outputId": "e2bec94a-ac67-4b95-cfde-5c912b66091d"
      },
      "execution_count": 3,
      "outputs": [
        {
          "output_type": "stream",
          "name": "stdout",
          "text": [
            "Collecting nengo\n",
            "  Downloading nengo-4.1.0-py3-none-any.whl.metadata (65 kB)\n",
            "\u001b[2K     \u001b[90m━━━━━━━━━━━━━━━━━━━━━━━━━━━━━━━━━━━━━━━━\u001b[0m \u001b[32m65.8/65.8 kB\u001b[0m \u001b[31m5.4 MB/s\u001b[0m eta \u001b[36m0:00:00\u001b[0m\n",
            "\u001b[?25hCollecting nengo-extras\n",
            "  Downloading nengo_extras-0.5.0-py3-none-any.whl.metadata (5.9 kB)\n",
            "Requirement already satisfied: numpy>=1.19 in /usr/local/lib/python3.12/dist-packages (from nengo) (2.0.2)\n",
            "Requirement already satisfied: matplotlib>=1.4 in /usr/local/lib/python3.12/dist-packages (from nengo-extras) (3.10.0)\n",
            "Requirement already satisfied: pillow in /usr/local/lib/python3.12/dist-packages (from nengo-extras) (11.3.0)\n",
            "Requirement already satisfied: contourpy>=1.0.1 in /usr/local/lib/python3.12/dist-packages (from matplotlib>=1.4->nengo-extras) (1.3.3)\n",
            "Requirement already satisfied: cycler>=0.10 in /usr/local/lib/python3.12/dist-packages (from matplotlib>=1.4->nengo-extras) (0.12.1)\n",
            "Requirement already satisfied: fonttools>=4.22.0 in /usr/local/lib/python3.12/dist-packages (from matplotlib>=1.4->nengo-extras) (4.60.1)\n",
            "Requirement already satisfied: kiwisolver>=1.3.1 in /usr/local/lib/python3.12/dist-packages (from matplotlib>=1.4->nengo-extras) (1.4.9)\n",
            "Requirement already satisfied: packaging>=20.0 in /usr/local/lib/python3.12/dist-packages (from matplotlib>=1.4->nengo-extras) (25.0)\n",
            "Requirement already satisfied: pyparsing>=2.3.1 in /usr/local/lib/python3.12/dist-packages (from matplotlib>=1.4->nengo-extras) (3.2.5)\n",
            "Requirement already satisfied: python-dateutil>=2.7 in /usr/local/lib/python3.12/dist-packages (from matplotlib>=1.4->nengo-extras) (2.9.0.post0)\n",
            "Requirement already satisfied: six>=1.5 in /usr/local/lib/python3.12/dist-packages (from python-dateutil>=2.7->matplotlib>=1.4->nengo-extras) (1.17.0)\n",
            "Downloading nengo-4.1.0-py3-none-any.whl (542 kB)\n",
            "\u001b[2K   \u001b[90m━━━━━━━━━━━━━━━━━━━━━━━━━━━━━━━━━━━━━━━━\u001b[0m \u001b[32m542.3/542.3 kB\u001b[0m \u001b[31m49.4 MB/s\u001b[0m eta \u001b[36m0:00:00\u001b[0m\n",
            "\u001b[?25hDownloading nengo_extras-0.5.0-py3-none-any.whl (83 kB)\n",
            "\u001b[2K   \u001b[90m━━━━━━━━━━━━━━━━━━━━━━━━━━━━━━━━━━━━━━━━\u001b[0m \u001b[32m83.7/83.7 kB\u001b[0m \u001b[31m9.2 MB/s\u001b[0m eta \u001b[36m0:00:00\u001b[0m\n",
            "\u001b[?25hInstalling collected packages: nengo, nengo-extras\n",
            "Successfully installed nengo-4.1.0 nengo-extras-0.5.0\n"
          ]
        }
      ]
    },
    {
      "cell_type": "code",
      "source": [
        "# implementacija jednog neurona\n",
        "class IF_neuron(object):\n",
        "  def __init__(self, v_thr=1.0):\n",
        "    \"\"\"\n",
        "    Args:\n",
        "      v_thr <int>: Threshold voltage of the IF neuron, default 1.0 .\n",
        "    \"\"\"\n",
        "    self._v_thr = v_thr\n",
        "    self._v = 0\n",
        "\n",
        "  def encode_input_and_spike(self, inp):\n",
        "    \"\"\"\n",
        "    Integrates the input and produces a spike if the IF neuron's voltage reaches\n",
        "    or crosses threshold.\n",
        "\n",
        "    Args:\n",
        "      inp <float>: Scalar input to the IF neuron.\n",
        "    \"\"\"\n",
        "    self._v = self._v + inp\n",
        "    if self._v >= self._v_thr:\n",
        "      self._v = 0 # Reset the voltage and produce a spike.\n",
        "      return 1.0 # Spike.\n",
        "    elif self._v < 0: # Rectify the voltage if it is negative.\n",
        "      self._v = 0\n",
        "\n",
        "    return 0 # No spike."
      ],
      "metadata": {
        "id": "y7FxzwJE4lpa"
      },
      "execution_count": 4,
      "outputs": []
    },
    {
      "cell_type": "code",
      "source": [
        "# Import necessary libraries.\n",
        "import numpy as np\n",
        "import matplotlib.pyplot as plt\n",
        "from nengo_extras.plot_spikes import plot_spikes\n",
        "\n",
        "# Create one spiking neuron and encode a random input signal.\n",
        "if_neuron = IF_neuron(v_thr=1) # Instantiate a neuron.\n",
        "T = 100 # Set the duration of input signal in time-steps.\n",
        "inp_signal = 2*(0.5 - np.random.rand(T)) # Generate signal.\n",
        "\n",
        "spikes = []\n",
        "for t in range(T): # Execute the IF neuron for the entire duration of the input.\n",
        "  spikes.append(if_neuron.encode_input_and_spike(inp_signal[t]))\n",
        "spikes = np.array(spikes).reshape(-1, 1)"
      ],
      "metadata": {
        "id": "y-HJ5GAh49Fg"
      },
      "execution_count": 5,
      "outputs": []
    },
    {
      "cell_type": "code",
      "source": [
        "plt.figure(figsize=(14, 2))\n",
        "plt.subplot(1, 2, 1)\n",
        "plt.plot(inp_signal)\n",
        "plt.title(\"Signal Input\")\n",
        "plt.xlabel(\"Timesteps\");\n",
        "plt.subplot(1, 2, 2)\n",
        "plt.title(\"Spikes\")\n",
        "plot_spikes(np.arange(0, T), spikes)\n",
        "plt.xlabel(\"Timesteps\");\n",
        "plt.xlim([0, 100]);"
      ],
      "metadata": {
        "colab": {
          "base_uri": "https://localhost:8080/",
          "height": 256
        },
        "id": "niyaYMd25EtD",
        "outputId": "82e35c00-b2b5-4da1-dee9-74efd8a1adc2"
      },
      "execution_count": 6,
      "outputs": [
        {
          "output_type": "display_data",
          "data": {
            "text/plain": [
              "<Figure size 1400x200 with 2 Axes>"
            ],
            "image/png": "[encoded data removed]"
          },
          "metadata": {}
        }
      ]
    },
    {
      "cell_type": "code",
      "source": [
        "import torch\n",
        "from abc import abstractmethod\n",
        "import numpy as np\n",
        "import torchvision\n",
        "\n",
        "V_THR = 1.0\n",
        "DEVICE = \"cpu\" # Change it to \"cuda:0\" if you have an NVIDIA-GPU.\n",
        "BATCH_SIZE = 500 # Change it to suit your memory availability.\n",
        "TAU_CUR = 1e-3 # Time constant of current decay."
      ],
      "metadata": {
        "id": "nx5KB0pH5xth"
      },
      "execution_count": 7,
      "outputs": []
    },
    {
      "cell_type": "code",
      "source": [
        "class BaseSpkNeuron(object):\n",
        "  def __init__(self, n_neurons):\n",
        "    \"\"\"\n",
        "    Args:\n",
        "      n_neurons: Number of spiking neurons.\n",
        "      v_thr <int>: Threshold voltage.\n",
        "    \"\"\"\n",
        "    self._v = torch.zeros(BATCH_SIZE, n_neurons, device=DEVICE)\n",
        "    self._v_thr = torch.as_tensor(V_THR)\n",
        "\n",
        "  def update_voltage(self, c):\n",
        "    \"\"\"\n",
        "    Args:\n",
        "      c <float>: Current input to update the voltage.\n",
        "    \"\"\"\n",
        "    self._v = self._v + c\n",
        "    mask = self._v < 0 # Mask to rectify the voltage if negative.\n",
        "    self._v[mask] = 0\n",
        "\n",
        "  def re_initialize_voltage(self):\n",
        "    \"\"\"\n",
        "    Resets all the neurons' voltage to zero.\n",
        "    \"\"\"\n",
        "    self._v = torch.zeros_like(self._v)\n",
        "\n",
        "  def reset_voltage(self, spikes):\n",
        "    \"\"\"\n",
        "    Reset the voltage of the neurons which spiked to zero.\n",
        "    \"\"\"\n",
        "    mask = spikes.detach() > 0\n",
        "    self._v[mask] = 0\n",
        "\n",
        "    def spike_and_reset_voltage(self):\n",
        "        # 1️⃣ Detektiraj spikeove: 1 ako je voltage >= threshold\n",
        "        spikes = (self._v >= self._v_thr).float()\n",
        "\n",
        "        # 2️⃣ Resetiraj voltage onih neurona koji su spikeali\n",
        "        self.reset_voltage(spikes)\n",
        "\n",
        "        # 3️⃣ Vrati spike tensor\n",
        "        return spikes\n"
      ],
      "metadata": {
        "id": "ZLg4BHlq6DbK"
      },
      "execution_count": 8,
      "outputs": []
    },
    {
      "cell_type": "code",
      "source": [
        "class SrgtDrtvSpike(torch.autograd.Function):\n",
        "  \"\"\"\n",
        "  This class implements the spiking function for the forward pass along with its\n",
        "  surrogate-derivative in the backward pass.\n",
        "  \"\"\"\n",
        "  scale = 5\n",
        "\n",
        "  @staticmethod\n",
        "  def forward(ctx, x):\n",
        "    \"\"\"\n",
        "    Computes the spikes and returns it.\n",
        "\n",
        "    Args:\n",
        "      ctx: is the context object.\n",
        "      x: is the input of the spiking function - Heaviside step function. The input\n",
        "        to this function should be `v(t) - v_thr`, i.e. S(v(t)) = H(v(t) - v_thr).\n",
        "    \"\"\"\n",
        "    ctx.save_for_backward(x)\n",
        "    out = torch.zeros_like(x)\n",
        "    out[x >= 0] = 1.0\n",
        "    return out\n",
        "\n",
        "  @staticmethod\n",
        "  def backward(ctx, grad_output):\n",
        "    \"\"\"\n",
        "    Computes the local gradient to be propagated back. Note that the local\n",
        "    gradient = gradient of the forward function * grad_output. Here the forward\n",
        "    function is estimated as the fast sigmoid function: x/(1+|x|), whose gradient\n",
        "    is 1/((1+|x|)^2).\n",
        "\n",
        "    Args:\n",
        "      ctx: is the context object whose stored values would be used to calculate\n",
        "        local gradient.\n",
        "      grad_output: is the gradient output received from the previous layer.\n",
        "    \"\"\"\n",
        "    x, = ctx.saved_tensors\n",
        "    grad_input = grad_output.clone()\n",
        "    local_grad = grad_output * 1.0/((1.0 + torch.abs(x)*SrgtDrtvSpike.scale)**2)\n",
        "    return local_grad\n",
        "\n",
        "spike_func = SrgtDrtvSpike.apply"
      ],
      "metadata": {
        "id": "wtl_PYxa6VtK"
      },
      "execution_count": 9,
      "outputs": []
    },
    {
      "cell_type": "code",
      "source": [
        "class SpkEncoderLayer(BaseSpkNeuron):\n",
        "  def __init__(self, n_neurons, gain=1.0, bias=0.0):\n",
        "    \"\"\"\n",
        "    Args:\n",
        "      n_neurons: Number of spiking neurons.\n",
        "      gain <int>: Gain value of the neuron.\n",
        "      bias <int>: Bias value of the neuron.\n",
        "    \"\"\"\n",
        "    super().__init__(n_neurons)\n",
        "    self._gain = gain\n",
        "    self._bias = bias\n",
        "\n",
        "  def spike_and_reset_voltage(self):\n",
        "    delta_v = self._v - self._v_thr\n",
        "    spikes = torch.zeros_like(delta_v)\n",
        "    spikes[delta_v >= 0] = 1.0\n",
        "    self.reset_voltage(spikes)\n",
        "\n",
        "    return spikes\n",
        "\n",
        "  def encode(self, x_t):\n",
        "    J = self._gain * x_t + self._bias\n",
        "    self.update_voltage(J)\n",
        "    spikes = self.spike_and_reset_voltage()\n",
        "\n",
        "    return spikes"
      ],
      "metadata": {
        "id": "P6BIaVZU6biX"
      },
      "execution_count": 10,
      "outputs": []
    },
    {
      "cell_type": "code",
      "source": [
        "class SpkHiddenLayer(BaseSpkNeuron, torch.nn.Module):\n",
        "  def __init__(self, n_prev, n_hidn, dt=1e-3):\n",
        "    \"\"\"\n",
        "    Args:\n",
        "      n_prev <int>: Number of neurons in the previous layer.\n",
        "      n_hidn <int>: Number of neurons in this hidden layer.\n",
        "      dt <float>: Delta t to determine the current decay constant.\n",
        "    \"\"\"\n",
        "    BaseSpkNeuron.__init__(self, n_hidn)\n",
        "    torch.nn.Module.__init__(self)\n",
        "    self._c = torch.zeros(BATCH_SIZE, n_hidn, device=DEVICE)\n",
        "    self._c_decay = torch.as_tensor(np.exp(-dt/TAU_CUR))\n",
        "    self._fc = torch.nn.Linear(n_prev, n_hidn, bias=False)\n",
        "    self._fc.weight.data = torch.empty(\n",
        "        n_hidn, n_prev, device=DEVICE).normal_(mean=0, std=2/np.sqrt(n_prev))\n",
        "\n",
        "  def re_initialize_neuron_states(self):\n",
        "    self.re_initialize_voltage()\n",
        "    self._c = torch.zeros_like(self._c)\n",
        "\n",
        "  def spike_and_reset_voltage(self): # Implement the abstract method.\n",
        "    delta_v = self._v - self._v_thr\n",
        "    spikes = spike_func(delta_v)\n",
        "    self.reset_voltage(spikes)\n",
        "\n",
        "    return spikes\n",
        "\n",
        "  def forward(self, x_t):\n",
        "    x_t = self._fc(x_t)\n",
        "    self._c = self._c_decay*self._c + x_t\n",
        "    self.update_voltage(self._c)\n",
        "    spikes = self.spike_and_reset_voltage()\n",
        "\n",
        "    return spikes\n"
      ],
      "metadata": {
        "id": "u1n7kNR56fPC"
      },
      "execution_count": 11,
      "outputs": []
    },
    {
      "cell_type": "code",
      "source": [
        "class SpkOutputLayer(SpkHiddenLayer):\n",
        "  def __init__(self, n_prev, n_otp=10):\n",
        "    \"\"\"\n",
        "    Args:\n",
        "      n_prev <int>: Number of neurons in the previous layer.\n",
        "      n_otp <int>: Number of classes in the output layer (or the dataset).\n",
        "    \"\"\"\n",
        "    super().__init__(n_prev, n_otp)"
      ],
      "metadata": {
        "id": "TKa6_ULa6ibs"
      },
      "execution_count": 12,
      "outputs": []
    },
    {
      "cell_type": "code",
      "source": [
        "class DenseSNN(torch.nn.Module):\n",
        "  def __init__(self, n_ts):\n",
        "    \"\"\"\n",
        "    Instantiates the DenseSNN class comprising of Spiking Encoder and Hidden\n",
        "    layers.\n",
        "\n",
        "    Args:\n",
        "      n_ts <int>: Number of simualtion time-steps.\n",
        "    \"\"\"\n",
        "    super().__init__()\n",
        "    self.n_ts = n_ts\n",
        "    self.enc_lyr = SpkEncoderLayer(n_neurons=784) # Image to Spike Encoder layer.\n",
        "    self.hdn_lyrs = torch.nn.ModuleList()\n",
        "    self.hdn_lyrs.append(SpkHiddenLayer(n_prev=784, n_hidn=1024)) # 1st Hidden Layer.\n",
        "    self.hdn_lyrs.append(SpkHiddenLayer(n_prev=1024, n_hidn=512)) # 2nd Hidden Layer.\n",
        "    self.otp_lyr = SpkOutputLayer(n_prev=512, n_otp=10)\n",
        "\n",
        "  def _forward_through_time(self, x):\n",
        "    \"\"\"\n",
        "    Implements the forward function through all the simulation time-steps.\n",
        "\n",
        "    Args:\n",
        "      x <Tensor>: Batch input of shape: (batch_size, 784). Note: 28x28 = 784.\n",
        "    \"\"\"\n",
        "    all_ts_out_spks = torch.zeros(BATCH_SIZE, self.n_ts, 10) # #Classes = 10.\n",
        "    for t in range(self.n_ts):\n",
        "      spikes = self.enc_lyr.encode(x)\n",
        "      for hdn_lyr in self.hdn_lyrs:\n",
        "        spikes = hdn_lyr(spikes)\n",
        "      spikes = self.otp_lyr(spikes)\n",
        "      all_ts_out_spks[:, t] = spikes\n",
        "\n",
        "    return all_ts_out_spks\n",
        "\n",
        "  def forward(self, x):\n",
        "    \"\"\"\n",
        "    Implements the forward function.\n",
        "\n",
        "    Args:\n",
        "      x <Tensor>: Batch input of shape: (batch_size, 784). Note: 28x28 = 784.\n",
        "    \"\"\"\n",
        "    # Re-initialize the neuron states.\n",
        "    self.enc_lyr.re_initialize_voltage()\n",
        "    for hdn_lyr in self.hdn_lyrs:\n",
        "      hdn_lyr.re_initialize_neuron_states()\n",
        "    self.otp_lyr.re_initialize_neuron_states()\n",
        "\n",
        "    # Do the forward pass through time, i.e., for all the simulation time-steps.\n",
        "    all_ts_out_spks = self._forward_through_time(x)\n",
        "    return all_ts_out_spks"
      ],
      "metadata": {
        "id": "0UJ5n86H6nT8"
      },
      "execution_count": 13,
      "outputs": []
    },
    {
      "cell_type": "code",
      "source": [
        "from tqdm import tqdm\n",
        "\n",
        "class TrainEvalDenseSNNVerbose(object):\n",
        "    def __init__(self, n_ts=25, epochs=10):\n",
        "        self.epochs = epochs\n",
        "        self.loss_function = torch.nn.CrossEntropyLoss()\n",
        "        self.model = DenseSNN(n_ts=n_ts).to(DEVICE)\n",
        "        self.optimizer = torch.optim.Adam(self.model.parameters(), lr=1e-3)\n",
        "\n",
        "        # MNIST loaders\n",
        "        self.train_loader = torch.utils.data.DataLoader(\n",
        "            torchvision.datasets.MNIST(root='./data', train=True, download=True,\n",
        "                                       transform=torchvision.transforms.ToTensor()),\n",
        "            batch_size=BATCH_SIZE, shuffle=True\n",
        "        )\n",
        "        self.test_loader = torch.utils.data.DataLoader(\n",
        "            torchvision.datasets.MNIST(root='./data', train=False, download=True,\n",
        "                                       transform=torchvision.transforms.ToTensor()),\n",
        "            batch_size=BATCH_SIZE, shuffle=False\n",
        "        )\n",
        "\n",
        "    # ---------------- Training ----------------\n",
        "    def train(self, epoch):\n",
        "        self.model.train()\n",
        "        all_true_ys, all_pred_ys = [], []\n",
        "        all_batches_loss = []\n",
        "\n",
        "        train_iter = tqdm(self.train_loader, desc=f\"Epoch {epoch} Training\", leave=False)\n",
        "        for i, (trn_x, trn_y) in enumerate(train_iter, 1):\n",
        "            trn_x = trn_x.flatten(start_dim=1).to(DEVICE)\n",
        "            trn_y = trn_y.to(DEVICE)\n",
        "\n",
        "            # Forward\n",
        "            all_ts_out_spks = self.model(trn_x)\n",
        "            mean_spk_rate = torch.mean(all_ts_out_spks, dim=1)\n",
        "            preds = torch.argmax(mean_spk_rate, dim=1)\n",
        "\n",
        "            all_true_ys.extend(trn_y.detach().cpu().numpy().tolist())\n",
        "            all_pred_ys.extend(preds.detach().cpu().numpy().tolist())\n",
        "\n",
        "            # Loss + backward\n",
        "            loss_value = self.loss_function(mean_spk_rate, trn_y)\n",
        "            all_batches_loss.append(loss_value.item())\n",
        "            self.optimizer.zero_grad()\n",
        "            loss_value.backward()\n",
        "            self.optimizer.step()\n",
        "\n",
        "            # Update tqdm bar sa batch loss\n",
        "            train_iter.set_postfix(batch=i, batch_loss=loss_value.item())\n",
        "\n",
        "        trn_acc = np.mean(np.array(all_true_ys) == np.array(all_pred_ys))\n",
        "        return trn_acc, np.mean(all_batches_loss)\n",
        "\n",
        "    # ---------------- Evaluation ----------------\n",
        "    def eval(self, epoch):\n",
        "        self.model.eval()\n",
        "        all_true_ys, all_pred_ys = [], []\n",
        "\n",
        "        test_iter = tqdm(self.test_loader, desc=f\"Epoch {epoch} Eval\", leave=False)\n",
        "        with torch.no_grad():\n",
        "            for i, (tst_x, tst_y) in enumerate(test_iter, 1):\n",
        "                tst_x = tst_x.flatten(start_dim=1).to(DEVICE)\n",
        "                tst_y = tst_y.to(DEVICE)\n",
        "\n",
        "                all_ts_out_spks = self.model(tst_x)\n",
        "                mean_spk_rate = torch.mean(all_ts_out_spks, dim=1)\n",
        "                preds = torch.argmax(mean_spk_rate, dim=1)\n",
        "\n",
        "                all_true_ys.extend(tst_y.detach().cpu().numpy().tolist())\n",
        "                all_pred_ys.extend(preds.detach().cpu().numpy().tolist())\n",
        "\n",
        "                # Update tqdm bar\n",
        "                test_iter.set_postfix(batch=i)\n",
        "\n",
        "        tst_acc = np.mean(np.array(all_true_ys) == np.array(all_pred_ys))\n",
        "        return tst_acc\n",
        "\n",
        "    # ---------------- Full Train+Eval loop ----------------\n",
        "    def train_eval(self):\n",
        "        for epoch in range(1, self.epochs + 1):\n",
        "            trn_acc, mean_loss = self.train(epoch)\n",
        "            tst_acc = self.eval(epoch)\n",
        "            print(f\"Epoch {epoch}/{self.epochs} | Train Acc: {trn_acc*100:.2f}% | \"\n",
        "                  f\"Train Loss: {mean_loss:.4f} | Test Acc: {tst_acc*100:.2f}%\")\n",
        "\n"
      ],
      "metadata": {
        "id": "3rfB6XGp6wuZ"
      },
      "execution_count": 14,
      "outputs": []
    },
    {
      "cell_type": "code",
      "source": [
        "trev_model = TrainEvalDenseSNNVerbose(n_ts=25, epochs=10)\n",
        "trev_model.train_eval()"
      ],
      "metadata": {
        "colab": {
          "base_uri": "https://localhost:8080/"
        },
        "id": "qin53BXk60s-",
        "outputId": "c7029631-cbbb-4fd3-f9da-04d055e1f53c"
      },
      "execution_count": 15,
      "outputs": [
        {
          "output_type": "stream",
          "name": "stderr",
          "text": [
            "100%|██████████| 9.91M/9.91M [00:01<00:00, 5.33MB/s]\n",
            "100%|██████████| 28.9k/28.9k [00:00<00:00, 125kB/s]\n",
            "100%|██████████| 1.65M/1.65M [00:01<00:00, 1.19MB/s]\n",
            "100%|██████████| 4.54k/4.54k [00:00<00:00, 11.3MB/s]\n"
          ]
        },
        {
          "output_type": "stream",
          "name": "stdout",
          "text": [
            "Epoch 1/10 | Train Acc: 88.41% | Train Loss: 1.6092 | Test Acc: 94.29%\n"
          ]
        },
        {
          "output_type": "stream",
          "name": "stderr",
          "text": []
        },
        {
          "output_type": "stream",
          "name": "stdout",
          "text": [
            "Epoch 2/10 | Train Acc: 95.24% | Train Loss: 1.5380 | Test Acc: 95.47%\n"
          ]
        },
        {
          "output_type": "stream",
          "name": "stderr",
          "text": []
        },
        {
          "output_type": "stream",
          "name": "stdout",
          "text": [
            "Epoch 3/10 | Train Acc: 96.56% | Train Loss: 1.5233 | Test Acc: 96.44%\n"
          ]
        },
        {
          "output_type": "stream",
          "name": "stderr",
          "text": []
        },
        {
          "output_type": "stream",
          "name": "stdout",
          "text": [
            "Epoch 4/10 | Train Acc: 97.36% | Train Loss: 1.5157 | Test Acc: 96.82%\n"
          ]
        },
        {
          "output_type": "stream",
          "name": "stderr",
          "text": []
        },
        {
          "output_type": "stream",
          "name": "stdout",
          "text": [
            "Epoch 5/10 | Train Acc: 97.92% | Train Loss: 1.5106 | Test Acc: 97.08%\n"
          ]
        },
        {
          "output_type": "stream",
          "name": "stderr",
          "text": []
        },
        {
          "output_type": "stream",
          "name": "stdout",
          "text": [
            "Epoch 6/10 | Train Acc: 98.15% | Train Loss: 1.5081 | Test Acc: 97.29%\n"
          ]
        },
        {
          "output_type": "stream",
          "name": "stderr",
          "text": []
        },
        {
          "output_type": "stream",
          "name": "stdout",
          "text": [
            "Epoch 7/10 | Train Acc: 98.45% | Train Loss: 1.5049 | Test Acc: 97.32%\n"
          ]
        },
        {
          "output_type": "stream",
          "name": "stderr",
          "text": []
        },
        {
          "output_type": "stream",
          "name": "stdout",
          "text": [
            "Epoch 8/10 | Train Acc: 98.67% | Train Loss: 1.5032 | Test Acc: 97.28%\n"
          ]
        },
        {
          "output_type": "stream",
          "name": "stderr",
          "text": []
        },
        {
          "output_type": "stream",
          "name": "stdout",
          "text": [
            "Epoch 9/10 | Train Acc: 98.86% | Train Loss: 1.5017 | Test Acc: 97.67%\n"
          ]
        },
        {
          "output_type": "stream",
          "name": "stderr",
          "text": [
            "                                                                        "
          ]
        },
        {
          "output_type": "stream",
          "name": "stdout",
          "text": [
            "Epoch 10/10 | Train Acc: 99.05% | Train Loss: 1.5001 | Test Acc: 97.66%\n"
          ]
        },
        {
          "output_type": "stream",
          "name": "stderr",
          "text": [
            "\r"
          ]
        }
      ]
    }
  ]
}